{
 "cells": [
  {
   "cell_type": "markdown",
   "id": "c3d6c779",
   "metadata": {},
   "source": [
    "# Data Science Tools and Ecosystem\n",
    "In this notebook, Data Science Tools and Ecosystem are summarized."
   ]
  },
  {
   "cell_type": "markdown",
   "id": "86d74e94",
   "metadata": {},
   "source": [
    "Some of the popular languages that Data Scientists use are:"
   ]
  },
  {
   "cell_type": "markdown",
   "id": "99d47a09",
   "metadata": {},
   "source": [
    "1.Python \n",
    "2.R\n",
    "3.julia\n",
    "4.scala\n",
    "5.c++ \n"
   ]
  },
  {
   "cell_type": "markdown",
   "id": "49a7b45a",
   "metadata": {},
   "source": [
    "Some of the commonly used libraries used by Data Scientists include:\n"
   ]
  },
  {
   "cell_type": "markdown",
   "id": "7670ad26",
   "metadata": {},
   "source": [
    "1.numpy \n",
    "2.pandas\n",
    "3.matplotlib\n",
    "4.ggplot\n",
    "5.caret\n",
    "6.dplyer"
   ]
  },
  {
   "cell_type": "code",
   "execution_count": 3,
   "id": "5ad9c0c2",
   "metadata": {},
   "outputs": [],
   "source": [
    "import pandas as pd \n",
    "import numpy as np\n"
   ]
  },
  {
   "cell_type": "code",
   "execution_count": 7,
   "id": "d36174f1",
   "metadata": {},
   "outputs": [
    {
     "data": {
      "text/html": [
       "<div>\n",
       "<style scoped>\n",
       "    .dataframe tbody tr th:only-of-type {\n",
       "        vertical-align: middle;\n",
       "    }\n",
       "\n",
       "    .dataframe tbody tr th {\n",
       "        vertical-align: top;\n",
       "    }\n",
       "\n",
       "    .dataframe thead th {\n",
       "        text-align: right;\n",
       "    }\n",
       "</style>\n",
       "<table border=\"1\" class=\"dataframe\">\n",
       "  <thead>\n",
       "    <tr style=\"text-align: right;\">\n",
       "      <th></th>\n",
       "      <th>Data Science Tools</th>\n",
       "    </tr>\n",
       "  </thead>\n",
       "  <tbody>\n",
       "    <tr>\n",
       "      <th>0</th>\n",
       "      <td>Data managment tools</td>\n",
       "    </tr>\n",
       "    <tr>\n",
       "      <th>1</th>\n",
       "      <td>Data extraction and transformation</td>\n",
       "    </tr>\n",
       "    <tr>\n",
       "      <th>2</th>\n",
       "      <td>data visulatiozation</td>\n",
       "    </tr>\n",
       "    <tr>\n",
       "      <th>3</th>\n",
       "      <td>data deployment</td>\n",
       "    </tr>\n",
       "    <tr>\n",
       "      <th>4</th>\n",
       "      <td>data maintanance</td>\n",
       "    </tr>\n",
       "  </tbody>\n",
       "</table>\n",
       "</div>"
      ],
      "text/plain": [
       "                   Data Science Tools\n",
       "0                Data managment tools\n",
       "1  Data extraction and transformation\n",
       "2                data visulatiozation\n",
       "3                     data deployment\n",
       "4                    data maintanance"
      ]
     },
     "execution_count": 7,
     "metadata": {},
     "output_type": "execute_result"
    }
   ],
   "source": [
    "df=pd.DataFrame({\"Data Science Tools\":[\"Data managment tools\",\"Data extraction and transformation\",\"data visulatiozation\",\"data deployment\",\"data maintanance\"]})\n",
    "df"
   ]
  },
  {
   "cell_type": "markdown",
   "id": "d42256c2",
   "metadata": {},
   "source": [
    "### Below are a few examples of evaluating arithmetic expressions in Python."
   ]
  },
  {
   "cell_type": "code",
   "execution_count": 8,
   "id": "853cbf87",
   "metadata": {},
   "outputs": [
    {
     "data": {
      "text/plain": [
       "12"
      ]
     },
     "execution_count": 8,
     "metadata": {},
     "output_type": "execute_result"
    }
   ],
   "source": [
    "5+7"
   ]
  },
  {
   "cell_type": "code",
   "execution_count": 9,
   "id": "9f70ad43",
   "metadata": {},
   "outputs": [
    {
     "data": {
      "text/plain": [
       "-40"
      ]
     },
     "execution_count": 9,
     "metadata": {},
     "output_type": "execute_result"
    }
   ],
   "source": [
    "25-65"
   ]
  },
  {
   "cell_type": "code",
   "execution_count": 11,
   "id": "da1ba31e",
   "metadata": {},
   "outputs": [
    {
     "data": {
      "text/plain": [
       "122"
      ]
     },
     "execution_count": 11,
     "metadata": {},
     "output_type": "execute_result"
    }
   ],
   "source": [
    "90+32"
   ]
  },
  {
   "cell_type": "code",
   "execution_count": 15,
   "id": "0d3c6e5e",
   "metadata": {},
   "outputs": [
    {
     "data": {
      "text/plain": [
       "21"
      ]
     },
     "execution_count": 15,
     "metadata": {},
     "output_type": "execute_result"
    }
   ],
   "source": [
    "# multiply and add numbers\n",
    "(3*4)+5,\n",
    "(3*9)+4,\n",
    "(6*2)+9"
   ]
  },
  {
   "cell_type": "code",
   "execution_count": 17,
   "id": "4898b1ab",
   "metadata": {},
   "outputs": [
    {
     "name": "stdout",
     "output_type": "stream",
     "text": [
      "3.3333333333333335 hours\n"
     ]
    }
   ],
   "source": [
    "# minutes to hours \n",
    "# 200 minutes to hour \n",
    "cd=200/60\n",
    "print(cd,\"hours\")"
   ]
  },
  {
   "cell_type": "markdown",
   "id": "ee5eb288",
   "metadata": {},
   "source": [
    "Objective of notebook"
   ]
  },
  {
   "cell_type": "markdown",
   "id": "b5e268d2",
   "metadata": {},
   "source": [
    "1. to learn Data science tools\n",
    "2. to learn data science libraary\n",
    "3. to lesrn Data science languages \n",
    "4. to learn about git\n",
    "5. to learn how to work on Git\n"
   ]
  },
  {
   "cell_type": "markdown",
   "id": "f9aabbad",
   "metadata": {},
   "source": [
    "## Author \n",
    "Sandeep Kumar singh"
   ]
  },
  {
   "cell_type": "code",
   "execution_count": null,
   "id": "0bc74ce6",
   "metadata": {},
   "outputs": [],
   "source": []
  }
 ],
 "metadata": {
  "kernelspec": {
   "display_name": "Python 3 (ipykernel)",
   "language": "python",
   "name": "python3"
  },
  "language_info": {
   "codemirror_mode": {
    "name": "ipython",
    "version": 3
   },
   "file_extension": ".py",
   "mimetype": "text/x-python",
   "name": "python",
   "nbconvert_exporter": "python",
   "pygments_lexer": "ipython3",
   "version": "3.11.1"
  }
 },
 "nbformat": 4,
 "nbformat_minor": 5
}
